{
 "cells": [
  {
   "cell_type": "code",
   "execution_count": 1,
   "metadata": {},
   "outputs": [
    {
     "name": "stdout",
     "output_type": "stream",
     "text": [
      "Best value of n_estimator for RandomForest model is:\n",
      "{'n_estimators': 100}\n"
     ]
    }
   ],
   "source": [
    "from DyslexiaML_final import model\n",
    "import numpy as np"
   ]
  },
  {
   "cell_type": "code",
   "execution_count": 2,
   "metadata": {},
   "outputs": [
    {
     "name": "stdout",
     "output_type": "stream",
     "text": [
      "Our model uses RandomForestClassifier with GridSearchCV to predict values from the given data.\n",
      "(Our model makes precitions with an error rate of 5.80%.)\n",
      "\n"
     ]
    }
   ],
   "source": [
    "#Giving user description of model\n",
    "print(\"Our model uses RandomForestClassifier with GridSearchCV to predict values from the given data.\")\n",
    "print(\"(Our model makes precitions with an error rate of 5.80%.)\\n\")"
   ]
  },
  {
   "cell_type": "code",
   "execution_count": 3,
   "metadata": {},
   "outputs": [
    {
     "name": "stdout",
     "output_type": "stream",
     "text": [
      "Enter name of appllicant: XYZ\n",
      "\n",
      "The scores of all the tests in quiz as well as survey need to be entered.\n",
      "All the values lie in the range 0 to 1.\n",
      "\n",
      "Enter the score of Language Vocab test: 0.5\n",
      "Enter the score of Memory test: 0.4\n",
      "Enter the score of Speed test: 0.6\n",
      "Enter the score of Visual Discrimination test: 0.4\n",
      "Enter the score of Audio Discrimination test: 0.5\n",
      "Enter the score obtained from Survey: 0.4\n"
     ]
    }
   ],
   "source": [
    "#Getting input from user\n",
    "name = input(\"Enter name of appllicant: \")\n",
    "print(\"\\nThe scores of all the tests in quiz as well as survey need to be entered.\")\n",
    "print(\"All the values lie in the range 0 to 1.\\n\")\n",
    "lang_vocab = float(input(\"Enter the score of Language Vocab test: \"))\n",
    "memory = float(input(\"Enter the score of Memory test: \"))\n",
    "speed = float(input(\"Enter the score of Speed test: \"))\n",
    "visual = float(input(\"Enter the score of Visual Discrimination test: \"))\n",
    "audio = float(input(\"Enter the score of Audio Discrimination test: \"))\n",
    "survey = float(input(\"Enter the score obtained from Survey: \"))"
   ]
  },
  {
   "cell_type": "code",
   "execution_count": 4,
   "metadata": {
    "collapsed": true
   },
   "outputs": [],
   "source": [
    "#Creating a 2D array from the given scores.\n",
    "#Input taken by our model is a 2D array.\n",
    "#get_result function can be run to get result from the survey.\n",
    "def get_result(lang_vocab, memory, speed, visual, audio, survey):\n",
    "    #2D numpy array created with the values input by the user.\n",
    "    array = np.array([[lang_vocab, memory, speed, visual, audio, survey]])\n",
    "    #The output given by model is converted into an int and stored in label.\n",
    "    label = int(model.predict(array))\n",
    "    #Giving final output to user depending upon the model prediction.\n",
    "    if(label == 0):\n",
    "        output = \"There is a high chance of the applicant to have dyslexia.\"\n",
    "    elif(label == 1):\n",
    "        output = \"There is a moderate chance of the applicant to have dyslexia.\"\n",
    "    else:\n",
    "        output = \"There is a low chance of the applicant to have dyslexia.\"\n",
    "    return output"
   ]
  },
  {
   "cell_type": "code",
   "execution_count": 5,
   "metadata": {},
   "outputs": [
    {
     "data": {
      "text/plain": [
       "'There is a low chance of the applicant to have dyslexia.'"
      ]
     },
     "execution_count": 5,
     "metadata": {},
     "output_type": "execute_result"
    }
   ],
   "source": [
    "get_result(lang_vocab, memory, speed, visual, audio, survey)\n"
   ]
  }
 ],
 "metadata": {
  "kernelspec": {
   "display_name": "Python 3",
   "language": "python",
   "name": "python3"
  },
  "language_info": {
   "codemirror_mode": {
    "name": "ipython",
    "version": 3
   },
   "file_extension": ".py",
   "mimetype": "text/x-python",
   "name": "python",
   "nbconvert_exporter": "python",
   "pygments_lexer": "ipython3",
   "version": "3.8.5"
  }
 },
 "nbformat": 4,
 "nbformat_minor": 4
}
